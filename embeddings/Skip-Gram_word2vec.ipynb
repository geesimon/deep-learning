{
 "cells": [
  {
   "cell_type": "markdown",
   "metadata": {},
   "source": [
    "# Skip-gram word2vec\n",
    "\n",
    "In this notebook, I'll lead you through using TensorFlow to implement the word2vec algorithm using the skip-gram architecture. By implementing this, you'll learn about embedding words for use in natural language processing. This will come in handy when dealing with things like machine translation.\n",
    "\n",
    "## Readings\n",
    "\n",
    "Here are the resources I used to build this notebook. I suggest reading these either beforehand or while you're working on this material.\n",
    "\n",
    "* A really good [conceptual overview](http://mccormickml.com/2016/04/19/word2vec-tutorial-the-skip-gram-model/) of word2vec from Chris McCormick \n",
    "* [First word2vec paper](https://arxiv.org/pdf/1301.3781.pdf) from Mikolov et al.\n",
    "* [NIPS paper](http://papers.nips.cc/paper/5021-distributed-representations-of-words-and-phrases-and-their-compositionality.pdf) with improvements for word2vec also from Mikolov et al.\n",
    "* An [implementation of word2vec](http://www.thushv.com/natural_language_processing/word2vec-part-1-nlp-with-deep-learning-with-tensorflow-skip-gram/) from Thushan Ganegedara\n",
    "* TensorFlow [word2vec tutorial](https://www.tensorflow.org/tutorials/word2vec)\n",
    "\n",
    "## Word embeddings\n",
    "\n",
    "When you're dealing with words in text, you end up with tens of thousands of classes to predict, one for each word. Trying to one-hot encode these words is massively inefficient, you'll have one element set to 1 and the other 50,000 set to 0. The matrix multiplication going into the first hidden layer will have almost all of the resulting values be zero. This a huge waste of computation. \n",
    "\n",
    "![one-hot encodings](assets/one_hot_encoding.png)\n",
    "\n",
    "To solve this problem and greatly increase the efficiency of our networks, we use what are called embeddings. Embeddings are just a fully connected layer like you've seen before. We call this layer the embedding layer and the weights are embedding weights. We skip the multiplication into the embedding layer by instead directly grabbing the hidden layer values from the weight matrix. We can do this because the multiplication of a one-hot encoded vector with a matrix returns the row of the matrix corresponding the index of the \"on\" input unit.\n",
    "\n",
    "![lookup](assets/lookup_matrix.png)\n",
    "\n",
    "Instead of doing the matrix multiplication, we use the weight matrix as a lookup table. We encode the words as integers, for example \"heart\" is encoded as 958, \"mind\" as 18094. Then to get hidden layer values for \"heart\", you just take the 958th row of the embedding matrix. This process is called an **embedding lookup** and the number of hidden units is the **embedding dimension**.\n",
    "\n",
    "<img src='assets/tokenize_lookup.png' width=500>\n",
    " \n",
    "There is nothing magical going on here. The embedding lookup table is just a weight matrix. The embedding layer is just a hidden layer. The lookup is just a shortcut for the matrix multiplication. The lookup table is trained just like any weight matrix as well.\n",
    "\n",
    "Embeddings aren't only used for words of course. You can use them for any model where you have a massive number of classes. A particular type of model called **Word2Vec** uses the embedding layer to find vector representations of words that contain semantic meaning.\n",
    "\n"
   ]
  },
  {
   "cell_type": "markdown",
   "metadata": {},
   "source": [
    "## Word2Vec\n",
    "\n",
    "The word2vec algorithm finds much more efficient representations by finding vectors that represent the words. These vectors also contain semantic information about the words. Words that show up in similar contexts, such as \"black\", \"white\", and \"red\" will have vectors near each other. There are two architectures for implementing word2vec, CBOW (Continuous Bag-Of-Words) and Skip-gram.\n",
    "\n",
    "<img src=\"assets/word2vec_architectures.png\" width=\"500\">\n",
    "\n",
    "In this implementation, we'll be using the skip-gram architecture because it performs better than CBOW. Here, we pass in a word and try to predict the words surrounding it in the text. In this way, we can train the network to learn representations for words that show up in similar contexts.\n",
    "\n",
    "First up, importing packages."
   ]
  },
  {
   "cell_type": "code",
   "execution_count": 1,
   "metadata": {},
   "outputs": [
    {
     "name": "stderr",
     "output_type": "stream",
     "text": [
      "C:\\Users\\geesi\\Anaconda3\\envs\\dlnd\\lib\\site-packages\\h5py\\__init__.py:34: FutureWarning: Conversion of the second argument of issubdtype from `float` to `np.floating` is deprecated. In future, it will be treated as `np.float64 == np.dtype(float).type`.\n",
      "  from ._conv import register_converters as _register_converters\n"
     ]
    }
   ],
   "source": [
    "import time\n",
    "\n",
    "import numpy as np\n",
    "import tensorflow as tf\n",
    "\n",
    "import utils"
   ]
  },
  {
   "cell_type": "markdown",
   "metadata": {},
   "source": [
    "Load the [text8 dataset](http://mattmahoney.net/dc/textdata.html), a file of cleaned up Wikipedia articles from Matt Mahoney. The next cell will download the data set to the `data` folder. Then you can extract it and delete the archive file to save storage space."
   ]
  },
  {
   "cell_type": "code",
   "execution_count": 2,
   "metadata": {
    "collapsed": true
   },
   "outputs": [],
   "source": [
    "from urllib.request import urlretrieve\n",
    "from os.path import isfile, isdir\n",
    "from tqdm import tqdm\n",
    "import zipfile\n",
    "\n",
    "dataset_folder_path = 'data'\n",
    "dataset_filename = 'text8.zip'\n",
    "dataset_name = 'Text8 Dataset'\n",
    "\n",
    "class DLProgress(tqdm):\n",
    "    last_block = 0\n",
    "\n",
    "    def hook(self, block_num=1, block_size=1, total_size=None):\n",
    "        self.total = total_size\n",
    "        self.update((block_num - self.last_block) * block_size)\n",
    "        self.last_block = block_num\n",
    "\n",
    "if not isfile(dataset_filename):\n",
    "    with DLProgress(unit='B', unit_scale=True, miniters=1, desc=dataset_name) as pbar:\n",
    "        urlretrieve(\n",
    "            'http://mattmahoney.net/dc/text8.zip',\n",
    "            dataset_filename,\n",
    "            pbar.hook)\n",
    "\n",
    "if not isdir(dataset_folder_path):\n",
    "    with zipfile.ZipFile(dataset_filename) as zip_ref:\n",
    "        zip_ref.extractall(dataset_folder_path)\n",
    "        \n",
    "with open('data/text8') as f:\n",
    "    text = f.read()"
   ]
  },
  {
   "cell_type": "markdown",
   "metadata": {},
   "source": [
    "## Preprocessing\n",
    "\n",
    "Here I'm fixing up the text to make training easier. This comes from the `utils` module I wrote. The `preprocess` function coverts any punctuation into tokens, so a period is changed to ` <PERIOD> `. In this data set, there aren't any periods, but it will help in other NLP problems. I'm also removing all words that show up five or fewer times in the dataset. This will greatly reduce issues due to noise in the data and improve the quality of the vector representations. If you want to write your own functions for this stuff, go for it."
   ]
  },
  {
   "cell_type": "code",
   "execution_count": 3,
   "metadata": {},
   "outputs": [
    {
     "name": "stdout",
     "output_type": "stream",
     "text": [
      "['anarchism', 'originated', 'as', 'a', 'term', 'of', 'abuse', 'first', 'used', 'against', 'early', 'working', 'class', 'radicals', 'including', 'the', 'diggers', 'of', 'the', 'english', 'revolution', 'and', 'the', 'sans', 'culottes', 'of', 'the', 'french', 'revolution', 'whilst']\n"
     ]
    }
   ],
   "source": [
    "words = utils.preprocess(text)\n",
    "print(words[:30])"
   ]
  },
  {
   "cell_type": "code",
   "execution_count": 4,
   "metadata": {},
   "outputs": [
    {
     "name": "stdout",
     "output_type": "stream",
     "text": [
      "Total words: 16680599\n",
      "Unique words: 63641\n"
     ]
    }
   ],
   "source": [
    "print(\"Total words: {}\".format(len(words)))\n",
    "print(\"Unique words: {}\".format(len(set(words))))"
   ]
  },
  {
   "cell_type": "markdown",
   "metadata": {},
   "source": [
    "And here I'm creating dictionaries to convert words to integers and backwards, integers to words. The integers are assigned in descending frequency order, so the most frequent word (\"the\") is given the integer 0 and the next most frequent is 1 and so on. The words are converted to integers and stored in the list `int_words`."
   ]
  },
  {
   "cell_type": "code",
   "execution_count": 5,
   "metadata": {
    "collapsed": true
   },
   "outputs": [],
   "source": [
    "vocab_to_int, int_to_vocab = utils.create_lookup_tables(words)\n",
    "int_words = [vocab_to_int[word] for word in words]"
   ]
  },
  {
   "cell_type": "code",
   "execution_count": 6,
   "metadata": {},
   "outputs": [
    {
     "data": {
      "text/plain": [
       "'one'"
      ]
     },
     "execution_count": 6,
     "metadata": {},
     "output_type": "execute_result"
    }
   ],
   "source": [
    "int_to_vocab[3]"
   ]
  },
  {
   "cell_type": "markdown",
   "metadata": {},
   "source": [
    "## Subsampling\n",
    "\n",
    "Words that show up often such as \"the\", \"of\", and \"for\" don't provide much context to the nearby words. If we discard some of them, we can remove some of the noise from our data and in return get faster training and better representations. This process is called subsampling by Mikolov. For each word $w_i$ in the training set, we'll discard it with probability given by \n",
    "\n",
    "$$ P(w_i) = 1 - \\sqrt{\\frac{t}{f(w_i)}} $$\n",
    "\n",
    "where $t$ is a threshold parameter and $f(w_i)$ is the frequency of word $w_i$ in the total dataset.\n",
    "\n",
    "I'm going to leave this up to you as an exercise. This is more of a programming challenge, than about deep learning specifically. But, being able to prepare your data for your network is an important skill to have. Check out my solution to see how I did it.\n",
    "\n",
    "> **Exercise:** Implement subsampling for the words in `int_words`. That is, go through `int_words` and discard each word given the probablility $P(w_i)$ shown above. Note that $P(w_i)$ is the probability that a word is discarded. Assign the subsampled data to `train_words`."
   ]
  },
  {
   "cell_type": "code",
   "execution_count": 7,
   "metadata": {
    "collapsed": true
   },
   "outputs": [],
   "source": [
    "## Your code here\n",
    "import numpy as np\n",
    "import random\n",
    "\n",
    "t = 1e-5\n",
    "\n",
    "p_word = np.zeros(len(int_to_vocab))\n",
    "for i in int_words:\n",
    "    p_word[i] += 1\n",
    "\n",
    "p_word = 1 - np.sqrt(t / (p_word / len(int_words)))\n",
    "\n",
    "# The final subsampled word list    \n",
    "train_words = [word for word in int_words if p_word[word] > random.random()]"
   ]
  },
  {
   "cell_type": "markdown",
   "metadata": {},
   "source": [
    "## Making batches"
   ]
  },
  {
   "cell_type": "markdown",
   "metadata": {},
   "source": [
    "Now that our data is in good shape, we need to get it into the proper form to pass it into our network. With the skip-gram architecture, for each word in the text, we want to grab all the words in a window around that word, with size $C$. \n",
    "\n",
    "From [Mikolov et al.](https://arxiv.org/pdf/1301.3781.pdf): \n",
    "\n",
    "\"Since the more distant words are usually less related to the current word than those close to it, we give less weight to the distant words by sampling less from those words in our training examples... If we choose $C = 5$, for each training word we will select randomly a number $R$ in range $< 1; C >$, and then use $R$ words from history and $R$ words from the future of the current word as correct labels.\"\n",
    "\n",
    "> **Exercise:** Implement a function `get_target` that receives a list of words, an index, and a window size, then returns a list of words in the window around the index. Make sure to use the algorithm described above, where you choose a random number of words from the window."
   ]
  },
  {
   "cell_type": "code",
   "execution_count": 8,
   "metadata": {
    "collapsed": true
   },
   "outputs": [],
   "source": [
    "def get_target(words, idx, window_size=5):\n",
    "    ''' Get a list of words in a window around an index. '''\n",
    "    \n",
    "    # Your code here\n",
    "    r = random.choice(range(1, window_size + 1))\n",
    "    hist_idx = idx - r if idx - r > 0 else 0\n",
    "    future_idx = idx + r\n",
    "    \n",
    "    target_words = set(words[hist_idx:idx] + words[idx + 1: future_idx + 1])\n",
    "    \n",
    "    return list(target_words)"
   ]
  },
  {
   "cell_type": "markdown",
   "metadata": {},
   "source": [
    "Here's a function that returns batches for our network. The idea is that it grabs `batch_size` words from a words list. Then for each of those words, it gets the target words in the window. I haven't found a way to pass in a random number of target words and get it to work with the architecture, so I make one row per input-target pair. This is a generator function by the way, helps save memory."
   ]
  },
  {
   "cell_type": "code",
   "execution_count": 9,
   "metadata": {
    "collapsed": true
   },
   "outputs": [],
   "source": [
    "def get_batches(words, batch_size, window_size=5):\n",
    "    ''' Create a generator of word batches as a tuple (inputs, targets) '''\n",
    "    \n",
    "    n_batches = len(words)//batch_size\n",
    "    \n",
    "    # only full batches\n",
    "    words = words[:n_batches*batch_size]\n",
    "    \n",
    "    for idx in range(0, len(words), batch_size):\n",
    "        x, y = [], []\n",
    "        batch = words[idx:idx+batch_size]\n",
    "        for ii in range(len(batch)):\n",
    "            batch_x = batch[ii]\n",
    "            batch_y = get_target(batch, ii, window_size)\n",
    "            y.extend(batch_y)\n",
    "            x.extend([batch_x]*len(batch_y))\n",
    "        yield x, y\n",
    "    "
   ]
  },
  {
   "cell_type": "markdown",
   "metadata": {},
   "source": [
    "## Building the graph\n",
    "\n",
    "From [Chris McCormick's blog](http://mccormickml.com/2016/04/19/word2vec-tutorial-the-skip-gram-model/), we can see the general structure of our network.\n",
    "![embedding_network](./assets/skip_gram_net_arch.png)\n",
    "\n",
    "The input words are passed in as integers. This will go into a hidden layer of linear units, then into a softmax layer. We'll use the softmax layer to make a prediction like normal.\n",
    "\n",
    "The idea here is to train the hidden layer weight matrix to find efficient representations for our words. We can discard the softmax layer becuase we don't really care about making predictions with this network. We just want the embedding matrix so we can use it in other networks we build from the dataset.\n",
    "\n",
    "I'm going to have you build the graph in stages now. First off, creating the `inputs` and `labels` placeholders like normal.\n",
    "\n",
    "> **Exercise:** Assign `inputs` and `labels` using `tf.placeholder`. We're going to be passing in integers, so set the data types to `tf.int32`. The batches we're passing in will have varying sizes, so set the batch sizes to [`None`]. To make things work later, you'll need to set the second dimension of `labels` to `None` or `1`."
   ]
  },
  {
   "cell_type": "code",
   "execution_count": 10,
   "metadata": {
    "collapsed": true
   },
   "outputs": [],
   "source": [
    "train_graph = tf.Graph()\n",
    "with train_graph.as_default():\n",
    "    inputs = tf.placeholder(tf.int32, [None], name='inputs')\n",
    "    labels = tf.placeholder(tf.int32, [None, 1], name='labels')"
   ]
  },
  {
   "cell_type": "markdown",
   "metadata": {},
   "source": [
    "## Embedding\n",
    "\n"
   ]
  },
  {
   "cell_type": "markdown",
   "metadata": {
    "collapsed": true
   },
   "source": [
    "The embedding matrix has a size of the number of words by the number of units in the hidden layer. So, if you have 10,000 words and 300 hidden units, the matrix will have size $10,000 \\times 300$. Remember that we're using tokenized data for our inputs, usually as integers, where the number of tokens is the number of words in our vocabulary.\n",
    "\n",
    "\n",
    "> **Exercise:** Tensorflow provides a convenient function [`tf.nn.embedding_lookup`](https://www.tensorflow.org/api_docs/python/tf/nn/embedding_lookup) that does this lookup for us. You pass in the embedding matrix and a tensor of integers, then it returns rows in the matrix corresponding to those integers. Below, set the number of embedding features you'll use (200 is a good start), create the embedding matrix variable, and use `tf.nn.embedding_lookup` to get the embedding tensors. For the embedding matrix, I suggest you initialize it with a uniform random numbers between -1 and 1 using [tf.random_uniform](https://www.tensorflow.org/api_docs/python/tf/random_uniform)."
   ]
  },
  {
   "cell_type": "code",
   "execution_count": 11,
   "metadata": {
    "collapsed": true
   },
   "outputs": [],
   "source": [
    "n_vocab = len(int_to_vocab)\n",
    "n_embedding =  300 # Number of embedding features \n",
    "with train_graph.as_default():\n",
    "    embedding = tf.Variable(tf.truncated_normal((n_vocab, n_embedding), stddev=0.1)) # create embedding weight matrix here\n",
    "    embed = tf.nn.embedding_lookup(embedding, inputs) # use tf.nn.embedding_lookup to get the hidden layer output"
   ]
  },
  {
   "cell_type": "markdown",
   "metadata": {},
   "source": [
    "## Negative sampling\n",
    "\n"
   ]
  },
  {
   "cell_type": "markdown",
   "metadata": {},
   "source": [
    "For every example we give the network, we train it using the output from the softmax layer. That means for each input, we're making very small changes to millions of weights even though we only have one true example. This makes training the network very inefficient. We can approximate the loss from the softmax layer by only updating a small subset of all the weights at once. We'll update the weights for the correct label, but only a small number of incorrect labels. This is called [\"negative sampling\"](http://papers.nips.cc/paper/5021-distributed-representations-of-words-and-phrases-and-their-compositionality.pdf). Tensorflow has a convenient function to do this, [`tf.nn.sampled_softmax_loss`](https://www.tensorflow.org/api_docs/python/tf/nn/sampled_softmax_loss).\n",
    "\n",
    "> **Exercise:** Below, create weights and biases for the softmax layer. Then, use [`tf.nn.sampled_softmax_loss`](https://www.tensorflow.org/api_docs/python/tf/nn/sampled_softmax_loss) to calculate the loss. Be sure to read the documentation to figure out how it works."
   ]
  },
  {
   "cell_type": "code",
   "execution_count": 12,
   "metadata": {},
   "outputs": [
    {
     "name": "stdout",
     "output_type": "stream",
     "text": [
      "WARNING:tensorflow:From C:\\Users\\geesi\\Anaconda3\\envs\\dlnd\\lib\\site-packages\\tensorflow\\python\\ops\\nn_impl.py:1310: softmax_cross_entropy_with_logits (from tensorflow.python.ops.nn_ops) is deprecated and will be removed in a future version.\n",
      "Instructions for updating:\n",
      "\n",
      "Future major versions of TensorFlow will allow gradients to flow\n",
      "into the labels input on backprop by default.\n",
      "\n",
      "See tf.nn.softmax_cross_entropy_with_logits_v2.\n",
      "\n"
     ]
    }
   ],
   "source": [
    "# Number of negative labels to sample\n",
    "n_sampled = 100\n",
    "with train_graph.as_default():\n",
    "    softmax_w = tf.Variable(tf.truncated_normal((n_vocab, n_embedding), stddev=0.1)) # create softmax weight matrix here\n",
    "    softmax_b = tf.Variable(tf.zeros(n_vocab)) # create softmax biases here\n",
    "    \n",
    "    # Calculate the loss using negative sampling\n",
    "    loss = tf.nn.sampled_softmax_loss(\n",
    "                weights=softmax_w,\n",
    "                biases=softmax_b,\n",
    "                inputs=embed,\n",
    "                labels=labels,\n",
    "                num_sampled=100,\n",
    "                num_classes=n_vocab)\n",
    "    \n",
    "    cost = tf.reduce_mean(loss)\n",
    "    optimizer = tf.train.AdamOptimizer().minimize(cost)"
   ]
  },
  {
   "cell_type": "markdown",
   "metadata": {},
   "source": [
    "## Validation\n",
    "\n",
    "This code is from Thushan Ganegedara's implementation. Here we're going to choose a few common words and few uncommon words. Then, we'll print out the closest words to them. It's a nice way to check that our embedding table is grouping together words with similar semantic meanings."
   ]
  },
  {
   "cell_type": "code",
   "execution_count": 13,
   "metadata": {},
   "outputs": [
    {
     "name": "stdout",
     "output_type": "stream",
     "text": [
      "WARNING:tensorflow:From <ipython-input-13-0edb403d10d5>:13: calling reduce_sum (from tensorflow.python.ops.math_ops) with keep_dims is deprecated and will be removed in a future version.\n",
      "Instructions for updating:\n",
      "keep_dims is deprecated, use keepdims instead\n"
     ]
    }
   ],
   "source": [
    "with train_graph.as_default():\n",
    "    ## From Thushan Ganegedara's implementation\n",
    "    valid_size = 16 # Random set of words to evaluate similarity on.\n",
    "    valid_window = 100\n",
    "    # pick 8 samples from (0,100) and (1000,1100) each ranges. lower id implies more frequent \n",
    "    valid_examples = np.array(random.sample(range(valid_window), valid_size//2))\n",
    "    valid_examples = np.append(valid_examples, \n",
    "                               random.sample(range(1000,1000+valid_window), valid_size//2))\n",
    "\n",
    "    valid_dataset = tf.constant(valid_examples, dtype=tf.int32)\n",
    "    \n",
    "    # We use the cosine distance:\n",
    "    norm = tf.sqrt(tf.reduce_sum(tf.square(embedding), 1, keep_dims=True))\n",
    "    normalized_embedding = embedding / norm\n",
    "    valid_embedding = tf.nn.embedding_lookup(normalized_embedding, valid_dataset)\n",
    "    similarity = tf.matmul(valid_embedding, tf.transpose(normalized_embedding))"
   ]
  },
  {
   "cell_type": "code",
   "execution_count": 14,
   "metadata": {},
   "outputs": [
    {
     "name": "stderr",
     "output_type": "stream",
     "text": [
      "子目录或文件 checkpoints 已经存在。\n"
     ]
    }
   ],
   "source": [
    "# If the checkpoints directory doesn't exist:\n",
    "!mkdir checkpoints"
   ]
  },
  {
   "cell_type": "markdown",
   "metadata": {},
   "source": [
    "## Training\n",
    "\n",
    "Below is the code to train the network. Every 100 batches it reports the training loss. Every 1000 batches, it'll print out the validation words."
   ]
  },
  {
   "cell_type": "code",
   "execution_count": null,
   "metadata": {},
   "outputs": [
    {
     "name": "stdout",
     "output_type": "stream",
     "text": [
      "Epoch 1/10 Iteration: 100 Avg. Training loss: 8.6513 0.0330 sec/batch\n",
      "Epoch 1/10 Iteration: 200 Avg. Training loss: 6.5140 0.0273 sec/batch\n",
      "Epoch 1/10 Iteration: 300 Avg. Training loss: 5.2307 0.0285 sec/batch\n",
      "Epoch 1/10 Iteration: 400 Avg. Training loss: 4.7982 0.0277 sec/batch\n",
      "Epoch 1/10 Iteration: 500 Avg. Training loss: 4.5968 0.0266 sec/batch\n",
      "Epoch 1/10 Iteration: 600 Avg. Training loss: 4.4378 0.0292 sec/batch\n",
      "Epoch 1/10 Iteration: 700 Avg. Training loss: 4.3013 0.0286 sec/batch\n",
      "Epoch 1/10 Iteration: 800 Avg. Training loss: 4.2031 0.0290 sec/batch\n",
      "Epoch 1/10 Iteration: 900 Avg. Training loss: 4.3395 0.0277 sec/batch\n",
      "Epoch 1/10 Iteration: 1000 Avg. Training loss: 4.2963 0.0285 sec/batch\n",
      "Nearest to is: an, use, a, probably, may, great, this, like,\n",
      "Nearest to state: group, forced, pacific, recorded, remained, centre, led, theory,\n",
      "Nearest to people: all, this, declared, middle, came, making, completely, became,\n",
      "Nearest to not: they, that, if, any, used, however, even, have,\n",
      "Nearest to but: that, even, however, with, a, any, now, all,\n",
      "Nearest to all: called, they, which, principles, many, nearly, considered, great,\n",
      "Nearest to however: them, so, but, later, take, with, all, up,\n",
      "Nearest to only: these, like, other, generally, or, considered, while, having,\n",
      "Nearest to defense: studies, sister, letter, democratic, ratio, relations, commonwealth, democracy,\n",
      "Nearest to orthodox: after, great, uk, political, jerusalem, latter, word, details,\n",
      "Nearest to ice: hill, romans, rule, senate, just, starting, near, price,\n",
      "Nearest to test: gulf, surface, city, discussed, moon, sent, body, love,\n",
      "Nearest to frac: importance, peace, calendar, killed, cd, elements, extreme, placed,\n",
      "Nearest to proposed: point, live, labor, appearance, word, taken, lord, serious,\n",
      "Nearest to pressure: jews, closely, like, theories, create, exception, applied, wife,\n",
      "Nearest to channel: appointed, marriage, spirit, continued, upper, acts, nation, democracy,\n",
      "Epoch 1/10 Iteration: 1100 Avg. Training loss: 4.2976 0.0288 sec/batch\n",
      "Epoch 1/10 Iteration: 1200 Avg. Training loss: 4.2581 0.0284 sec/batch\n",
      "Epoch 1/10 Iteration: 1300 Avg. Training loss: 4.2163 0.0274 sec/batch\n",
      "Epoch 1/10 Iteration: 1400 Avg. Training loss: 4.2158 0.0272 sec/batch\n",
      "Epoch 1/10 Iteration: 1500 Avg. Training loss: 4.2432 0.0280 sec/batch\n",
      "Epoch 1/10 Iteration: 1600 Avg. Training loss: 4.2341 0.0291 sec/batch\n",
      "Epoch 1/10 Iteration: 1700 Avg. Training loss: 4.2609 0.0274 sec/batch\n",
      "Epoch 1/10 Iteration: 1800 Avg. Training loss: 4.1770 0.0270 sec/batch\n",
      "Epoch 1/10 Iteration: 1900 Avg. Training loss: 4.2094 0.0281 sec/batch\n",
      "Epoch 1/10 Iteration: 2000 Avg. Training loss: 4.2067 0.0277 sec/batch\n",
      "Nearest to is: an, called, a, this, something, use, affect, means,\n",
      "Nearest to state: group, centre, caesar, masters, nato, administration, wisdom, moore,\n",
      "Nearest to people: all, making, principles, reduced, numbers, face, linked, declared,\n",
      "Nearest to not: so, that, they, if, any, when, exist, even,\n",
      "Nearest to but: that, however, even, if, though, did, all, although,\n",
      "Nearest to all: almost, they, principles, among, nearly, which, except, those,\n",
      "Nearest to however: but, so, them, all, that, teach, with, and,\n",
      "Nearest to only: like, these, still, while, if, however, what, it,\n",
      "Nearest to defense: commonwealth, moore, dissolved, sister, ratio, macintosh, studies, letter,\n",
      "Nearest to orthodox: festival, bavaria, sale, roman, weeks, inhabitants, great, index,\n",
      "Nearest to ice: photo, hill, romans, jan, song, row, statue, stadium,\n",
      "Nearest to test: discussed, surface, approval, gulf, macintosh, bits, vehicle, huge,\n",
      "Nearest to frac: cd, moscow, arrival, buffalo, height, roll, male, upper,\n",
      "Nearest to proposed: tourist, appearance, taken, anyone, serious, becoming, communism, headed,\n",
      "Nearest to pressure: counter, exception, theories, like, wisdom, improvements, procedures, distinguished,\n",
      "Nearest to channel: buffalo, appointed, upper, peak, ruled, moore, representative, chip,\n",
      "Epoch 1/10 Iteration: 2100 Avg. Training loss: 4.2205 0.0292 sec/batch\n",
      "Epoch 1/10 Iteration: 2200 Avg. Training loss: 4.1806 0.0284 sec/batch\n",
      "Epoch 1/10 Iteration: 2300 Avg. Training loss: 4.1313 0.0271 sec/batch\n",
      "Epoch 1/10 Iteration: 2400 Avg. Training loss: 4.1751 0.0274 sec/batch\n",
      "Epoch 1/10 Iteration: 2500 Avg. Training loss: 4.1770 0.0275 sec/batch\n",
      "Epoch 1/10 Iteration: 2600 Avg. Training loss: 4.1795 0.0281 sec/batch\n",
      "Epoch 1/10 Iteration: 2700 Avg. Training loss: 4.1503 0.0283 sec/batch\n",
      "Epoch 1/10 Iteration: 2800 Avg. Training loss: 4.1713 0.0275 sec/batch\n",
      "Epoch 1/10 Iteration: 2900 Avg. Training loss: 4.2041 0.0280 sec/batch\n",
      "Epoch 1/10 Iteration: 3000 Avg. Training loss: 4.0432 0.0281 sec/batch\n",
      "Nearest to is: an, means, called, a, within, makes, use, are,\n",
      "Nearest to state: group, caesar, administration, government, of, centre, central, pacific,\n",
      "Nearest to people: around, reign, reduced, men, and, all, beliefs, native,\n",
      "Nearest to not: that, so, exist, they, what, if, any, even,\n",
      "Nearest to but: however, that, although, though, even, which, while, before,\n",
      "Nearest to all: nearly, some, these, almost, therefore, except, within, themselves,\n",
      "Nearest to however: but, that, though, with, teach, so, which, although,\n",
      "Nearest to only: still, it, but, however, these, nearly, all, once,\n",
      "Nearest to defense: publishers, commonwealth, bavaria, dissolved, plastic, preference, macintosh, poem,\n",
      "Nearest to orthodox: dramatic, physically, bavaria, roman, stages, inhabitants, sale, congo,\n",
      "Nearest to ice: row, jan, hill, photo, decrease, crash, statue, song,\n",
      "Nearest to test: approval, discussed, vehicle, macintosh, disappeared, poetry, plus, experiments,\n",
      "Nearest to frac: manual, height, philippines, darwin, points, fixed, mile, stanley,\n",
      "Nearest to proposed: intermediate, darwin, tourist, becoming, labor, appearance, acted, variants,\n",
      "Nearest to pressure: exception, everything, cheese, counter, grain, distinguished, jews, attribute,\n",
      "Nearest to channel: ois, italy, peak, albums, helium, thailand, jim, delta,\n",
      "Epoch 1/10 Iteration: 3100 Avg. Training loss: 4.2010 0.0305 sec/batch\n",
      "Epoch 1/10 Iteration: 3200 Avg. Training loss: 4.1328 0.0282 sec/batch\n",
      "Epoch 1/10 Iteration: 3300 Avg. Training loss: 4.1789 0.0272 sec/batch\n",
      "Epoch 1/10 Iteration: 3400 Avg. Training loss: 4.1431 0.0263 sec/batch\n",
      "Epoch 1/10 Iteration: 3500 Avg. Training loss: 4.1474 0.0282 sec/batch\n",
      "Epoch 1/10 Iteration: 3600 Avg. Training loss: 4.1340 0.0256 sec/batch\n",
      "Epoch 1/10 Iteration: 3700 Avg. Training loss: 4.1411 0.0261 sec/batch\n",
      "Epoch 1/10 Iteration: 3800 Avg. Training loss: 4.1649 0.0267 sec/batch\n",
      "Epoch 1/10 Iteration: 3900 Avg. Training loss: 4.1433 0.0272 sec/batch\n",
      "Epoch 1/10 Iteration: 4000 Avg. Training loss: 4.1326 0.0270 sec/batch\n",
      "Nearest to is: means, makes, requires, called, an, sense, are, a,\n",
      "Nearest to state: administration, valley, community, education, federal, pennsylvania, korea, government,\n",
      "Nearest to people: those, beliefs, and, lives, scholars, other, their, individuals,\n",
      "Nearest to not: so, that, exist, nor, only, what, want, this,\n",
      "Nearest to but: however, although, that, though, while, because, before, which,\n",
      "Nearest to all: nearly, except, some, these, almost, hold, things, the,\n",
      "Nearest to however: but, although, that, though, so, while, because, considered,\n",
      "Nearest to only: it, however, just, always, that, when, before, still,\n",
      "Nearest to defense: bavaria, publishers, facility, vertical, preference, commonwealth, scotland, achievements,\n",
      "Nearest to orthodox: churches, roman, celtic, physically, christians, tradition, wealth, christian,\n",
      "Nearest to ice: franks, odds, row, charlemagne, nearby, bipolar, accordance, sicily,\n",
      "Nearest to test: cola, discussed, denotes, traded, complete, vehicle, conan, commissioned,\n",
      "Nearest to frac: height, k, bytes, median, points, interactive, inches, follows,\n",
      "Nearest to proposed: decade, produced, conan, darwin, appearance, tourist, acted, decision,\n",
      "Nearest to pressure: signal, attached, procedures, hearing, feed, represent, conscious, counter,\n",
      "Nearest to channel: ois, peak, households, featured, providers, editions, paved, carlos,\n",
      "Epoch 1/10 Iteration: 4100 Avg. Training loss: 4.1118 0.0299 sec/batch\n",
      "Epoch 1/10 Iteration: 4200 Avg. Training loss: 4.1418 0.0269 sec/batch\n"
     ]
    },
    {
     "name": "stdout",
     "output_type": "stream",
     "text": [
      "Epoch 1/10 Iteration: 4300 Avg. Training loss: 4.1430 0.0264 sec/batch\n",
      "Epoch 1/10 Iteration: 4400 Avg. Training loss: 4.1427 0.0258 sec/batch\n",
      "Epoch 1/10 Iteration: 4500 Avg. Training loss: 4.1008 0.0256 sec/batch\n",
      "Epoch 1/10 Iteration: 4600 Avg. Training loss: 4.0995 0.0265 sec/batch\n",
      "Epoch 1/10 Iteration: 4700 Avg. Training loss: 4.0800 0.0272 sec/batch\n",
      "Epoch 1/10 Iteration: 4800 Avg. Training loss: 4.1261 0.0275 sec/batch\n",
      "Epoch 1/10 Iteration: 4900 Avg. Training loss: 4.0947 0.0266 sec/batch\n",
      "Epoch 1/10 Iteration: 5000 Avg. Training loss: 4.1021 0.0268 sec/batch\n",
      "Nearest to is: makes, sense, means, solution, appears, requires, note, contains,\n",
      "Nearest to state: federal, administration, community, pennsylvania, government, delaware, authority, department,\n",
      "Nearest to people: those, living, children, lives, and, themselves, scholars, their,\n",
      "Nearest to not: that, nor, exist, so, what, only, seem, always,\n",
      "Nearest to but: however, although, that, though, while, because, which, yet,\n",
      "Nearest to all: therefore, except, only, these, nearly, hold, our, some,\n",
      "Nearest to however: but, although, though, that, indeed, while, because, entirely,\n",
      "Nearest to only: always, entirely, still, it, all, however, true, take,\n",
      "Nearest to defense: moments, bavaria, voted, sultan, flag, newspaper, gardens, persia,\n",
      "Nearest to orthodox: churches, roman, church, catholic, christian, christians, christianity, eastern,\n",
      "Nearest to ice: franks, odds, row, charlemagne, nearby, paint, wonder, bavaria,\n",
      "Nearest to test: eisenhower, crossed, muscles, complete, frame, conan, boss, vehicle,\n",
      "Nearest to frac: k, sum, x, n, f, y, m, right,\n",
      "Nearest to proposed: documented, shown, acquisition, survived, arrow, produced, gone, intermediate,\n",
      "Nearest to pressure: voltage, temperature, changes, lambda, oxygen, helping, vertical, via,\n",
      "Nearest to channel: ois, console, peak, providers, wild, gross, chip, dominion,\n",
      "Epoch 1/10 Iteration: 5100 Avg. Training loss: 4.1283 0.0296 sec/batch\n",
      "Epoch 1/10 Iteration: 5200 Avg. Training loss: 4.1244 0.0284 sec/batch\n",
      "Epoch 1/10 Iteration: 5300 Avg. Training loss: 4.1071 0.0274 sec/batch\n",
      "Epoch 1/10 Iteration: 5400 Avg. Training loss: 4.0973 0.0272 sec/batch\n",
      "Epoch 1/10 Iteration: 5500 Avg. Training loss: 4.0830 0.0272 sec/batch\n",
      "Epoch 1/10 Iteration: 5600 Avg. Training loss: 4.1060 0.0269 sec/batch\n",
      "Epoch 1/10 Iteration: 5700 Avg. Training loss: 4.1118 0.0282 sec/batch\n",
      "Epoch 1/10 Iteration: 5800 Avg. Training loss: 4.1087 0.0269 sec/batch\n"
     ]
    }
   ],
   "source": [
    "epochs = 10\n",
    "batch_size = 1000\n",
    "window_size = 10\n",
    "\n",
    "with train_graph.as_default():\n",
    "    saver = tf.train.Saver()\n",
    "\n",
    "with tf.Session(graph=train_graph) as sess:\n",
    "    iteration = 1\n",
    "    loss = 0\n",
    "    sess.run(tf.global_variables_initializer())\n",
    "\n",
    "    for e in range(1, epochs+1):\n",
    "        batches = get_batches(train_words, batch_size, window_size)\n",
    "        start = time.time()\n",
    "        for x, y in batches:\n",
    "            \n",
    "            feed = {inputs: x,\n",
    "                    labels: np.array(y)[:, None]}\n",
    "            train_loss, _ = sess.run([cost, optimizer], feed_dict=feed)\n",
    "            \n",
    "            loss += train_loss\n",
    "            \n",
    "            if iteration % 100 == 0: \n",
    "                end = time.time()\n",
    "                print(\"Epoch {}/{}\".format(e, epochs),\n",
    "                      \"Iteration: {}\".format(iteration),\n",
    "                      \"Avg. Training loss: {:.4f}\".format(loss/100),\n",
    "                      \"{:.4f} sec/batch\".format((end-start)/100))\n",
    "                loss = 0\n",
    "                start = time.time()\n",
    "            \n",
    "            if iteration % 1000 == 0:\n",
    "                ## From Thushan Ganegedara's implementation\n",
    "                # note that this is expensive (~20% slowdown if computed every 500 steps)\n",
    "                sim = similarity.eval()\n",
    "                for i in range(valid_size):\n",
    "                    valid_word = int_to_vocab[valid_examples[i]]\n",
    "                    top_k = 8 # number of nearest neighbors\n",
    "                    nearest = (-sim[i, :]).argsort()[1:top_k+1]\n",
    "                    log = 'Nearest to %s:' % valid_word\n",
    "                    for k in range(top_k):\n",
    "                        close_word = int_to_vocab[nearest[k]]\n",
    "                        log = '%s %s,' % (log, close_word)\n",
    "                    print(log)\n",
    "            \n",
    "            iteration += 1\n",
    "    save_path = saver.save(sess, \"checkpoints/text8.ckpt\")\n",
    "    embed_mat = sess.run(normalized_embedding)"
   ]
  },
  {
   "cell_type": "markdown",
   "metadata": {},
   "source": [
    "Restore the trained network if you need to:"
   ]
  },
  {
   "cell_type": "code",
   "execution_count": null,
   "metadata": {
    "collapsed": true
   },
   "outputs": [],
   "source": [
    "with train_graph.as_default():\n",
    "    saver = tf.train.Saver()\n",
    "\n",
    "with tf.Session(graph=train_graph) as sess:\n",
    "    saver.restore(sess, tf.train.latest_checkpoint('checkpoints'))\n",
    "    embed_mat = sess.run(embedding)"
   ]
  },
  {
   "cell_type": "markdown",
   "metadata": {},
   "source": [
    "## Visualizing the word vectors\n",
    "\n",
    "Below we'll use T-SNE to visualize how our high-dimensional word vectors cluster together. T-SNE is used to project these vectors into two dimensions while preserving local stucture. Check out [this post from Christopher Olah](http://colah.github.io/posts/2014-10-Visualizing-MNIST/) to learn more about T-SNE and other ways to visualize high-dimensional data."
   ]
  },
  {
   "cell_type": "code",
   "execution_count": null,
   "metadata": {
    "collapsed": true
   },
   "outputs": [],
   "source": [
    "%matplotlib inline\n",
    "%config InlineBackend.figure_format = 'retina'\n",
    "\n",
    "import matplotlib.pyplot as plt\n",
    "from sklearn.manifold import TSNE"
   ]
  },
  {
   "cell_type": "code",
   "execution_count": null,
   "metadata": {
    "collapsed": true
   },
   "outputs": [],
   "source": [
    "viz_words = 500\n",
    "tsne = TSNE()\n",
    "embed_tsne = tsne.fit_transform(embed_mat[:viz_words, :])"
   ]
  },
  {
   "cell_type": "code",
   "execution_count": null,
   "metadata": {
    "collapsed": true
   },
   "outputs": [],
   "source": [
    "fig, ax = plt.subplots(figsize=(14, 14))\n",
    "for idx in range(viz_words):\n",
    "    plt.scatter(*embed_tsne[idx, :], color='steelblue')\n",
    "    plt.annotate(int_to_vocab[idx], (embed_tsne[idx, 0], embed_tsne[idx, 1]), alpha=0.7)"
   ]
  },
  {
   "cell_type": "code",
   "execution_count": null,
   "metadata": {
    "collapsed": true
   },
   "outputs": [],
   "source": []
  }
 ],
 "metadata": {
  "kernelspec": {
   "display_name": "Python 3",
   "language": "python",
   "name": "python3"
  },
  "language_info": {
   "codemirror_mode": {
    "name": "ipython",
    "version": 3
   },
   "file_extension": ".py",
   "mimetype": "text/x-python",
   "name": "python",
   "nbconvert_exporter": "python",
   "pygments_lexer": "ipython3",
   "version": "3.6.2"
  }
 },
 "nbformat": 4,
 "nbformat_minor": 2
}
